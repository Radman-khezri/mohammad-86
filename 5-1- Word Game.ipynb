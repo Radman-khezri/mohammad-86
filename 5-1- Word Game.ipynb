{
 "cells": [
  {
   "cell_type": "code",
   "execution_count": 1,
   "id": "003c3e60",
   "metadata": {},
   "outputs": [],
   "source": [
    "word = 'yes'\n",
    "# print ('length of word:',len(word))\n",
    "# list_word = list (word)\n",
    "string = '***'\n",
    "# list_string = list (string)\n",
    "chance = 0;"
   ]
  },
  {
   "cell_type": "code",
   "execution_count": 2,
   "id": "3bf627e4",
   "metadata": {},
   "outputs": [],
   "source": [
    "def get_letter():\n",
    "    alphabet = input('Please give a letter: ')\n",
    "    return alphabet"
   ]
  },
  {
   "cell_type": "code",
   "execution_count": 3,
   "id": "63ac0d93",
   "metadata": {},
   "outputs": [],
   "source": [
    "def position_of_letter(word,letter):\n",
    "    \n",
    "    if word.find(letter) == -1:\n",
    "        return False\n",
    "    else:\n",
    "        return True"
   ]
  },
  {
   "cell_type": "code",
   "execution_count": 4,
   "id": "64229bcc",
   "metadata": {},
   "outputs": [],
   "source": [
    "def try_to_guess(chance):\n",
    "    chance += 1\n",
    "    return chance"
   ]
  },
  {
   "cell_type": "code",
   "execution_count": 5,
   "id": "202242a4",
   "metadata": {},
   "outputs": [],
   "source": [
    "def find_star(string):\n",
    "    \n",
    "    if string.find('*') == -1:\n",
    "        return True\n",
    "    else:\n",
    "        return False"
   ]
  },
  {
   "cell_type": "code",
   "execution_count": 6,
   "id": "a81cd57c",
   "metadata": {},
   "outputs": [],
   "source": [
    "def check_end(chance,string):\n",
    "    \n",
    "    if chance < (len(word) + 3) and find_star(string) == True:\n",
    "        return True\n",
    "    else:\n",
    "        return False"
   ]
  },
  {
   "cell_type": "code",
   "execution_count": null,
   "id": "bd2d02ca",
   "metadata": {},
   "outputs": [
    {
     "name": "stdout",
     "output_type": "stream",
     "text": [
      "length of word:  3\n",
      "You have  6 chance!\n",
      "\n",
      "chance =  1 \n",
      "\n",
      "\n",
      "Please give a letter: 3\n",
      "chance =  2 \n",
      "\n",
      "\n"
     ]
    }
   ],
   "source": [
    "print('length of word: ',len(word))\n",
    "\n",
    "print('You have ',len(word) + 3,'chance!\\n')\n",
    "chance = try_to_guess(chance)\n",
    "print('chance = ', chance, '\\n\\n')\n",
    "\n",
    "\n",
    "while True:\n",
    "    \n",
    "    try:\n",
    "        letter = get_letter()\n",
    "    except:\n",
    "        if letter.isdigit():\n",
    "            print(' Oops! You have got a number! please try again with a letter 🙂! ')\n",
    "            chance = try_to_guess(chance)\n",
    "            continue\n",
    "        elif len(letter) > 1:\n",
    "            print (' Oops! You have wrote more than one letter! please try again with just one letter😜 ')\n",
    "            chance = try_to_guess(chance)\n",
    "            continue\n",
    "        elif letter.isalpha() == False and letter.isdigit():\n",
    "            print(' Oops! You have got something else! please try again with just one letter🙏 ')\n",
    "            chance = try_to_guess(chance)\n",
    "            continue\n",
    "            \n",
    "    position = position_of_letter(word, letter)\n",
    "    \n",
    "    \n",
    "            \n",
    "    if position:\n",
    "        \n",
    "        location = word.find(letter)\n",
    "#         print('\\n\\n\\t The location of \\''+letter+'\\'in word is: ',location,'\\n')\n",
    "        string = string[:location] + letter + string[location + 1:]\n",
    "        print('\\t\\t',string,'\\n')\n",
    "        \n",
    "        \n",
    "#         print('position: ',position, '\\n')\n",
    "        find_star(string)\n",
    "#         print('star: ',find_star(string),'\\n')\n",
    "\n",
    "        checking = check_end(chance, string)\n",
    "#         print('checking: ',checking,'\\n')\n",
    "            \n",
    "            \n",
    "        if checking:\n",
    "            chance = try_to_guess(chance)\n",
    "            print('\\t Congratulations! You win 🎉 👏')\n",
    "            break\n",
    "            \n",
    "\n",
    "        else:\n",
    "            chance = try_to_guess(chance)\n",
    "        print('chance = ', chance, '\\n\\n')\n",
    "            \n",
    "            \n",
    "            \n",
    "    else:\n",
    "#         print('\\n\\nposition: ',position,'\\n')\n",
    "        find_star(string)\n",
    "#         print('star: ',find_star(string),'\\n')\n",
    "\n",
    "        checking = check_end(chance, string)\n",
    "#         print('checking: ',checking,'\\n')\n",
    "        \n",
    "        if chance < len(word) + 3:\n",
    "            chance = try_to_guess(chance)\n",
    "            print('chance = ', chance,'\\n\\n')\n",
    "            continue\n",
    "        else:\n",
    "            chance = try_to_guess(chance)\n",
    "            print('Game Over')            \n",
    "            break"
   ]
  }
 ],
 "metadata": {
  "kernelspec": {
   "display_name": "Python 3 (ipykernel)",
   "language": "python",
   "name": "python3"
  },
  "language_info": {
   "codemirror_mode": {
    "name": "ipython",
    "version": 3
   },
   "file_extension": ".py",
   "mimetype": "text/x-python",
   "name": "python",
   "nbconvert_exporter": "python",
   "pygments_lexer": "ipython3",
   "version": "3.9.7"
  }
 },
 "nbformat": 4,
 "nbformat_minor": 5
}
